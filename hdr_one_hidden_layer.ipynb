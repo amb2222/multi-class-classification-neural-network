{
 "cells": [
  {
   "cell_type": "code",
   "execution_count": 1,
   "metadata": {},
   "outputs": [
    {
     "data": {
      "image/png": "[encoded data removed]",
      "text/plain": [
       "<Figure size 432x288 with 5 Axes>"
      ]
     },
     "metadata": {
      "needs_background": "light"
     },
     "output_type": "display_data"
    }
   ],
   "source": [
    "#loading necessary libraries\n",
    "import numpy as np\n",
    "import pandas as pd\n",
    "import matplotlib.pyplot as plt\n",
    "%matplotlib inline\n",
    "\n",
    "#loading training and test data\n",
    "train_data=pd.read_csv(\"mnist_train.csv\", header=None)\n",
    "test_data=pd.read_csv(\"mnist_test.csv\", header=None)\n",
    "\n",
    "#modifying loaded data to desired form\n",
    "y_desired=train_data.iloc[:, [0]]\n",
    "x_train=train_data.iloc[:, 1: ]/255\n",
    "y_test=test_data.iloc[:, [0]]\n",
    "x_test=test_data.iloc[:, 1:]/255\n",
    "\n",
    "for i in range(1,6):\n",
    "    plt.subplot(3,3,i)\n",
    "    plt.imshow(np.array(x_train)[:, [i]])"
   ]
  },
  {
   "cell_type": "code",
   "execution_count": 2,
   "metadata": {},
   "outputs": [],
   "source": [
    "m_train=x_train.shape[0]\n",
    "m_test=x_test.shape[0]\n",
    "n=x_train.shape[1]\n",
    "\n",
    "y_train = np.zeros((m_train, 10))\n",
    "for i in range (0, m_train):\n",
    "    y_train[i][y_desired.iloc[i]]=1.0\n",
    "y_testt= np.zeros((m_test, 10))\n",
    "for i in range (0, m_test):\n",
    "    y_testt[i][y_test.iloc[i]]=1.0    "
   ]
  },
  {
   "cell_type": "code",
   "execution_count": 3,
   "metadata": {},
   "outputs": [],
   "source": [
    "def sigmoid(z):\n",
    "    s = 1/(1+np.exp(-z))\n",
    "    return s\n",
    "def layer_sizes(X, Y):\n",
    "    n_x = X.shape[1] \n",
    "    n_h = 64\n",
    "    n_y = Y.shape[1] \n",
    "    \n",
    "    return (n_x, n_h, n_y)\n",
    "\n",
    "\n",
    "def initialize_parameters(n_x, n_h, n_y):\n",
    "    W1 = np.random.randn(n_h, n_x)*0.01\n",
    "    b1 = np.zeros((1,n_h))\n",
    "    W2 = np.random.randn(n_y, n_h)*0.01\n",
    "    b2 = np.zeros((1, n_y))\n",
    "    parameters = {\"W1\": W1,\"b1\": b1,\"W2\": W2,\"b2\": b2}\n",
    "    \n",
    "    return parameters"
   ]
  },
  {
   "cell_type": "code",
   "execution_count": 4,
   "metadata": {},
   "outputs": [],
   "source": [
    "def forward_propagation(X, parameters):\n",
    "    W1 = parameters[\"W1\"]\n",
    "    b1 = parameters[\"b1\"]\n",
    "    W2 = parameters[\"W2\"]\n",
    "    b2 = parameters[\"b2\"]\n",
    "    \n",
    "    #propagate_forwrd\n",
    "    Z1 = np.dot(X, W1.T)+b1\n",
    "    A1 = np.tanh(Z1)\n",
    "    Z2 = np.dot(A1, W2.T)+b2\n",
    "    A2 = sigmoid(Z2)\n",
    "    \n",
    "    cache = {\"Z1\": Z1,\n",
    "             \"A1\": A1,\n",
    "             \"Z2\": Z2,\n",
    "             \"A2\": A2}\n",
    "    \n",
    "    return A2, cache"
   ]
  },
  {
   "cell_type": "code",
   "execution_count": 5,
   "metadata": {},
   "outputs": [],
   "source": [
    "def compute_cost(A2, Y, parameters):\n",
    "    m = Y.shape[0]\n",
    "    W1 = parameters[\"W1\"]\n",
    "    W2 = parameters[\"W2\"]\n",
    "    \n",
    "    logprobs = np.multiply(np.log(A2),Y)+np.multiply(np.log(1-A2),(1-Y))\n",
    "    cost = (-1/m)*np.sum(logprobs)+(1/m)\n",
    "    return cost"
   ]
  },
  {
   "cell_type": "code",
   "execution_count": 6,
   "metadata": {},
   "outputs": [],
   "source": [
    "def backward_propagation(parameters, cache, X, Y):\n",
    "    m = X.shape[1]\n",
    "    W1 = parameters[\"W1\"]\n",
    "    W2 = parameters[\"W2\"]\n",
    "    A1 = cache[\"A1\"]\n",
    "    A2 = cache[\"A2\"]\n",
    "    \n",
    "    #backprop\n",
    "    dZ2 = A2-Y\n",
    "    dW2 = (1/m)*np.dot(dZ2.T, A1)\n",
    "    db2 = (1/m)*np.sum(dZ2, axis=0, keepdims=True)\n",
    "    dZ1 = np.dot(dZ2, W2)*(1-np.power(A1,2))\n",
    "    dW1 = (1/m)*np.dot(dZ1.T, X)\n",
    "    db1 = (1/m)*np.sum(dZ1, axis=0,keepdims=True)\n",
    "    \n",
    "    grads = {\"dW1\": dW1,\n",
    "             \"db1\": db1,\n",
    "             \"dW2\": dW2,\n",
    "             \"db2\": db2}\n",
    "    \n",
    "    return grads"
   ]
  },
  {
   "cell_type": "code",
   "execution_count": 7,
   "metadata": {},
   "outputs": [],
   "source": [
    "def update_parameters(parameters, grads, learning_rate):\n",
    "\n",
    "    W1 = parameters[\"W1\"]\n",
    "    b1 = parameters[\"b1\"]\n",
    "    W2 = parameters[\"W2\"]\n",
    "    b2 = parameters[\"b2\"]\n",
    "    \n",
    "    dW1 = grads[\"dW1\"]\n",
    "    db1 = grads[\"db1\"]\n",
    "    dW2 = grads[\"dW2\"]\n",
    "    db2 = grads[\"db2\"]\n",
    "    \n",
    "    W1 = W1-learning_rate*dW1\n",
    "    b1 = b1-learning_rate*db1\n",
    "    W2 = W2-learning_rate*dW2\n",
    "    b2 = b2-learning_rate*db2\n",
    "    \n",
    "    parameters = {\"W1\": W1,\n",
    "                  \"b1\": b1,\n",
    "                  \"W2\": W2,\n",
    "                  \"b2\": b2}\n",
    "    \n",
    "    return parameters"
   ]
  },
  {
   "cell_type": "code",
   "execution_count": 8,
   "metadata": {},
   "outputs": [],
   "source": [
    "def nn_model(X, Y, n_h, num_iterations, print_cost=False):\n",
    "    \n",
    "    np.random.seed(3)\n",
    "    n_x = layer_sizes(X, Y)[0]\n",
    "    n_y = layer_sizes(X, Y)[2]\n",
    "    m = X.shape[0]\n",
    "    parameters = initialize_parameters(n_x,n_h,n_y)\n",
    "    \n",
    "    #gradient descent\n",
    "    for i in range(0, num_iterations):\n",
    "        A2, cache = forward_propagation(X, parameters)\n",
    "        \n",
    "        # Cost function\n",
    "        cost = compute_cost(A2, Y, parameters)\n",
    " \n",
    "        # Backpropagation\n",
    "        grads = backward_propagation(parameters, cache, X, Y)\n",
    " \n",
    "        # parameter update\n",
    "        parameters = update_parameters(parameters, grads, learning_rate = 0.01)\n",
    "        \n",
    "        if print_cost and i % 20 == 0:\n",
    "            print (\"Cost after iteration %i: %f\" %(i, cost))\n",
    "\n",
    "    return parameters\n"
   ]
  },
  {
   "cell_type": "code",
   "execution_count": 9,
   "metadata": {},
   "outputs": [],
   "source": [
    "def predict(parameters, X):\n",
    "    \n",
    "    A2, cache = forward_propagation(X, parameters)\n",
    "    predictions = A2>0.5\n",
    "    \n",
    "    return predictions"
   ]
  },
  {
   "cell_type": "code",
   "execution_count": 10,
   "metadata": {},
   "outputs": [
    {
     "name": "stdout",
     "output_type": "stream",
     "text": [
      "Cost after iteration 0: 6.926005\n",
      "Cost after iteration 20: 3.144813\n",
      "Cost after iteration 40: 1.328105\n",
      "Cost after iteration 60: 0.890047\n",
      "Cost after iteration 80: 0.792179\n",
      "Cost after iteration 100: 0.626328\n",
      "Cost after iteration 120: 0.572862\n",
      "Cost after iteration 140: 0.537723\n",
      "Cost after iteration 160: 0.510102\n",
      "Cost after iteration 180: 0.487222\n",
      "Cost after iteration 200: 0.467688\n",
      "Cost after iteration 220: 0.450678\n",
      "Cost after iteration 240: 0.435651\n",
      "Cost after iteration 260: 0.422226\n",
      "Cost after iteration 280: 0.410114\n",
      "train accuracy: 98.765 %\n",
      "test accuracy: 98.803 %\n"
     ]
    }
   ],
   "source": [
    "parameters = nn_model(x_train, y_train, n_h = 64, num_iterations =300 , print_cost=True)\n",
    "predictions_train = predict(parameters, x_train)\n",
    "predictions_test=predict(parameters, x_test)\n",
    "\n",
    "print(\"train accuracy: {} %\".format(100 - np.mean(np.abs(predictions_train-y_train)) * 100))\n",
    "print(\"test accuracy: {} %\".format(100 - np.mean(np.abs(predictions_test-y_testt)) * 100))"
   ]
  },
  {
   "cell_type": "code",
   "execution_count": null,
   "metadata": {},
   "outputs": [],
   "source": []
  }
 ],
 "metadata": {
  "kernelspec": {
   "display_name": "Python 3",
   "language": "python",
   "name": "python3"
  },
  "language_info": {
   "codemirror_mode": {
    "name": "ipython",
    "version": 3
   },
   "file_extension": ".py",
   "mimetype": "text/x-python",
   "name": "python",
   "nbconvert_exporter": "python",
   "pygments_lexer": "ipython3",
   "version": "3.7.4"
  }
 },
 "nbformat": 4,
 "nbformat_minor": 2
}
